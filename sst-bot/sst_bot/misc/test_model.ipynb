{
 "cells": [
  {
   "cell_type": "code",
   "execution_count": 1,
   "id": "initial_id",
   "metadata": {
    "ExecuteTime": {
     "end_time": "2023-12-19T15:06:22.599492600Z",
     "start_time": "2023-12-19T15:06:13.089671100Z"
    },
    "collapsed": true
   },
   "outputs": [],
   "source": [
    "import pandas as pd\n",
    "from transformers import BartTokenizer, BartForConditionalGeneration\n",
    "import torch"
   ]
  },
  {
   "cell_type": "code",
   "execution_count": 2,
   "id": "361daf249d52f6ec",
   "metadata": {
    "ExecuteTime": {
     "end_time": "2023-12-19T14:50:13.175160900Z",
     "start_time": "2023-12-19T14:50:13.046928300Z"
    },
    "collapsed": false
   },
   "outputs": [],
   "source": [
    "df = pd.read_csv('covid_abstracts.csv')"
   ]
  },
  {
   "cell_type": "code",
   "execution_count": 8,
   "id": "f16c32b6e3b8eb5a",
   "metadata": {
    "ExecuteTime": {
     "end_time": "2023-12-19T14:51:03.687772400Z",
     "start_time": "2023-12-19T14:51:03.679729500Z"
    },
    "collapsed": false
   },
   "outputs": [
    {
     "data": {
      "text/html": [
       "<div>\n",
       "<style scoped>\n",
       "    .dataframe tbody tr th:only-of-type {\n",
       "        vertical-align: middle;\n",
       "    }\n",
       "\n",
       "    .dataframe tbody tr th {\n",
       "        vertical-align: top;\n",
       "    }\n",
       "\n",
       "    .dataframe thead th {\n",
       "        text-align: right;\n",
       "    }\n",
       "</style>\n",
       "<table border=\"1\" class=\"dataframe\">\n",
       "  <thead>\n",
       "    <tr style=\"text-align: right;\">\n",
       "      <th></th>\n",
       "      <th>title</th>\n",
       "      <th>abstract</th>\n",
       "      <th>url</th>\n",
       "    </tr>\n",
       "  </thead>\n",
       "  <tbody>\n",
       "    <tr>\n",
       "      <th>0</th>\n",
       "      <td>Real-World Experience with COVID-19  Including...</td>\n",
       "      <td>This article summarizes the experiences of COV...</td>\n",
       "      <td>https://pubmed.ncbi.nlm.nih.gov/35008137</td>\n",
       "    </tr>\n",
       "  </tbody>\n",
       "</table>\n",
       "</div>"
      ],
      "text/plain": [
       "                                               title  \\\n",
       "0  Real-World Experience with COVID-19  Including...   \n",
       "\n",
       "                                            abstract  \\\n",
       "0  This article summarizes the experiences of COV...   \n",
       "\n",
       "                                        url  \n",
       "0  https://pubmed.ncbi.nlm.nih.gov/35008137  "
      ]
     },
     "execution_count": 8,
     "metadata": {},
     "output_type": "execute_result"
    }
   ],
   "source": [
    "df.head(1)"
   ]
  },
  {
   "cell_type": "code",
   "execution_count": 10,
   "id": "4c3b59f51f16027",
   "metadata": {
    "ExecuteTime": {
     "end_time": "2023-12-19T16:02:26.735427500Z",
     "start_time": "2023-12-19T15:58:38.833690900Z"
    },
    "collapsed": false
   },
   "outputs": [
    {
     "data": {
      "application/vnd.jupyter.widget-view+json": {
       "model_id": "aed16ab7d27742fbada0fe5463241c1d",
       "version_major": 2,
       "version_minor": 0
      },
      "text/plain": [
       "tokenizer_config.json:   0%|          | 0.00/300 [00:00<?, ?B/s]"
      ]
     },
     "metadata": {},
     "output_type": "display_data"
    },
    {
     "data": {
      "application/vnd.jupyter.widget-view+json": {
       "model_id": "3e50240af2b44132a123ca0fb08da8fe",
       "version_major": 2,
       "version_minor": 0
      },
      "text/plain": [
       "vocab.json:   0%|          | 0.00/798k [00:00<?, ?B/s]"
      ]
     },
     "metadata": {},
     "output_type": "display_data"
    },
    {
     "data": {
      "application/vnd.jupyter.widget-view+json": {
       "model_id": "bd4be2dc0a6f4bf8b6c2b60f80d19ce0",
       "version_major": 2,
       "version_minor": 0
      },
      "text/plain": [
       "merges.txt:   0%|          | 0.00/456k [00:00<?, ?B/s]"
      ]
     },
     "metadata": {},
     "output_type": "display_data"
    },
    {
     "data": {
      "application/vnd.jupyter.widget-view+json": {
       "model_id": "1f236d77b7de4580a6b78487c20681ff",
       "version_major": 2,
       "version_minor": 0
      },
      "text/plain": [
       "special_tokens_map.json:   0%|          | 0.00/239 [00:00<?, ?B/s]"
      ]
     },
     "metadata": {},
     "output_type": "display_data"
    },
    {
     "data": {
      "application/vnd.jupyter.widget-view+json": {
       "model_id": "9dfb12c4ff924c82a119572f47ce625f",
       "version_major": 2,
       "version_minor": 0
      },
      "text/plain": [
       "config.json:   0%|          | 0.00/1.63k [00:00<?, ?B/s]"
      ]
     },
     "metadata": {},
     "output_type": "display_data"
    },
    {
     "data": {
      "application/vnd.jupyter.widget-view+json": {
       "model_id": "158ae9333703425dba71c0c47a8d299b",
       "version_major": 2,
       "version_minor": 0
      },
      "text/plain": [
       "pytorch_model.bin:   0%|          | 0.00/1.63G [00:00<?, ?B/s]"
      ]
     },
     "metadata": {},
     "output_type": "display_data"
    }
   ],
   "source": [
    "model_name=\"philschmid/bart-large-cnn-samsum\"\n",
    "tokenizer = BartTokenizer.from_pretrained(model_name)\n",
    "model = BartForConditionalGeneration.from_pretrained(model_name)"
   ]
  },
  {
   "cell_type": "code",
   "execution_count": 11,
   "id": "6be52ad9be80b9d4",
   "metadata": {
    "ExecuteTime": {
     "end_time": "2023-12-19T16:03:28.252711100Z",
     "start_time": "2023-12-19T16:03:21.617268300Z"
    },
    "collapsed": false
   },
   "outputs": [
    {
     "name": "stdout",
     "output_type": "stream",
     "text": [
      "Alice is the Project Manager of Project Alpha. Bob finished the core modules of the application last night. Charlie has finalized the user interface designs and sent the mockups to the team for review. Diane will help Bob with fixing some bugs related to data management. The launch date for Project Alpha is set for January 31.\n"
     ]
    }
   ],
   "source": [
    "from transformers import BartTokenizer, BartForConditionalGeneration\n",
    "\n",
    "def summarize_text(text):\n",
    "\n",
    "    # Encodage du texte d'entrée\n",
    "    inputs = tokenizer([text], max_length=1024, return_tensors='pt', truncation=True)\n",
    "\n",
    "    # Génération du résumé\n",
    "    summary_ids = model.generate(inputs['input_ids'], \n",
    "                                 num_beams=4, \n",
    "                                 max_length=75, \n",
    "                                 min_length=25, \n",
    "                                 length_penalty=2.0, \n",
    "                                 no_repeat_ngram_size=3, \n",
    "                                 early_stopping=True)\n",
    "    summary = tokenizer.decode(summary_ids[0], skip_special_tokens=True)\n",
    "\n",
    "    return summary\n",
    "\n",
    "def dialogue_to_narrative(dialogue):\n",
    "    narrative = dialogue.replace(\":\", \" said, \").replace(\"?\", \". \").replace(\"!\", \". \")\n",
    "    return narrative\n",
    "\n",
    "# Exemple de texte à résumer\n",
    "dialogue = \"\"\"Alice (Project Manager): Good morning, everyone. Thank you for joining today's meeting. Let's start with a quick roundtable to discuss everyone's progress on Project Alpha.\n",
    "\n",
    "Bob (Developer): I finished the core modules of our application last night. There are still a few bugs to fix, but overall, things are moving along well.\n",
    "\n",
    "Charlie (Designer): On my end, I've finalized the user interface designs. I've sent the mockups to the team for review. I'll need feedback by Friday to make any necessary changes.\n",
    "\n",
    "Diane (Data Analyst): I've analyzed the user data we collected last month. It appears our users prefer clean interfaces, which aligns well with Charlie's designs.\n",
    "\n",
    "Alice: That's great news. Bob, do you need additional help to quickly resolve the bugs?\n",
    "\n",
    "Bob: Yes, I think Diane's help with debugging would be useful. Some of the bugs are related to data management.\n",
    "\n",
    "Diane: No problem, I can assist Bob after this meeting.\n",
    "\n",
    "Alice: Excellent. Let's move on to planning. We've set the launch date for January 31. Is everyone comfortable with this timeline?\n",
    "\n",
    "Bob: It seems doable to me. If Diane helps me with the bugs, I should be able to focus on optimizing the code.\n",
    "\n",
    "Charlie: The designs will be ready. I will need to work closely with Bob to ensure the implementation matches the mockups.\n",
    "\n",
    "Alice: Alright. To conclude, I propose we meet again next week to check in. Until then, Bob and Diane will work together on the bugs, and Charlie will start integrating the designs with Bob's help. Any questions or comments before we finish?\n",
    "\n",
    "Charlie: All clear on my end.\n",
    "\n",
    "Diane: No questions from me.\n",
    "\n",
    "Bob: All good for me.\n",
    "\n",
    "Alice: Perfect, thank you all for your hard work. Meeting adjourned.\n",
    " \"\"\"\n",
    "\n",
    "\n",
    "# Résumé du texte\n",
    "summary = summarize_text(dialogue)\n",
    "print(summary)"
   ]
  },
  {
   "cell_type": "code",
   "execution_count": null,
   "id": "f2b8d54b77dbecd0",
   "metadata": {
    "collapsed": false
   },
   "outputs": [],
   "source": [
    "import sys\n",
    "sys.path.insert(1, '../nlp/infos.py')\n",
    "from infos import *"
   ]
  },
  {
   "cell_type": "code",
   "execution_count": null,
   "id": "55eaf95af0626ffe",
   "metadata": {
    "collapsed": false
   },
   "outputs": [],
   "source": []
  },
  {
   "cell_type": "code",
   "execution_count": null,
   "id": "a644231821d41096",
   "metadata": {
    "collapsed": false
   },
   "outputs": [],
   "source": []
  },
  {
   "cell_type": "code",
   "execution_count": null,
   "id": "5eeaaec67f2b2020",
   "metadata": {
    "collapsed": false
   },
   "outputs": [],
   "source": []
  }
 ],
 "metadata": {
  "kernelspec": {
   "display_name": "Python 3",
   "language": "python",
   "name": "python3"
  },
  "language_info": {
   "codemirror_mode": {
    "name": "ipython",
    "version": 2
   },
   "file_extension": ".py",
   "mimetype": "text/x-python",
   "name": "python",
   "nbconvert_exporter": "python",
   "pygments_lexer": "ipython2",
   "version": "3.7.6"
  }
 },
 "nbformat": 4,
 "nbformat_minor": 5
}
